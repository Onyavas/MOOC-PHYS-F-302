{
 "cells": [
  {
   "cell_type": "markdown",
   "metadata": {},
   "source": [
    "# Devoir PHYS-F-302, année académique 2019-2020/ YAVAS ONUR-JEROME SOMERS"
   ]
  },
  {
   "cell_type": "code",
   "execution_count": 1,
   "metadata": {},
   "outputs": [],
   "source": [
    "import matplotlib.pyplot as plt \n",
    "import numpy as np \n",
    "from math import exp\n",
    "%matplotlib inline"
   ]
  },
  {
   "cell_type": "markdown",
   "metadata": {},
   "source": [
    "# Introduction"
   ]
  },
  {
   "cell_type": "markdown",
   "metadata": {},
   "source": [
    "Pour ce travail, nous étudierons plusierus méthodes numériques nous permettant de calculer, c'est-à-dire approximer la solution d'une équation dfférentielle. Pour ce faire, nous nous fierons également aux méthodes vu au premier quadrimestre. "
   ]
  },
  {
   "cell_type": "markdown",
   "metadata": {},
   "source": [
    "## Question 1 :\n"
   ]
  },
  {
   "cell_type": "markdown",
   "metadata": {},
   "source": [
    "On a une équation du 4eme ordre à résoudre. Pour obtenir la solution générale de cette équation, nous l'avons résolu en remplacant les $$df/dx$$ par une inconnue m dans le but de la ramener au seconde ordre. Pour cette question, il n'est pas précisé d'utiliser numpy, nous nous sommes permis d'utiliser sympy. Ainsi, nous trouvons une solution analyique comme suit."
   ]
  },
  {
   "cell_type": "code",
   "execution_count": 2,
   "metadata": {},
   "outputs": [
    {
     "data": {
      "image/png": "[encoded data removed]",
      "text/latex": [
       "$\\displaystyle 4 f{\\left(x \\right)} - 5 \\frac{d^{2}}{d x^{2}} f{\\left(x \\right)} + \\frac{d^{4}}{d x^{4}} f{\\left(x \\right)} = 0$"
      ],
      "text/plain": [
       "             2           4          \n",
       "            d           d           \n",
       "4⋅f(x) - 5⋅───(f(x)) + ───(f(x)) = 0\n",
       "             2           4          \n",
       "           dx          dx           "
      ]
     },
     "metadata": {},
     "output_type": "display_data"
    },
    {
     "data": {
      "image/png": "[encoded data removed]",
      "text/latex": [
       "$\\displaystyle f{\\left(x \\right)} = C_{1} e^{- 2 x} + C_{2} e^{- x} + C_{3} e^{x} + C_{4} e^{2 x}$"
      ],
      "text/plain": [
       "           -2⋅x       -x       x       2⋅x\n",
       "f(x) = C₁⋅ℯ     + C₂⋅ℯ   + C₃⋅ℯ  + C₄⋅ℯ   "
      ]
     },
     "execution_count": 2,
     "metadata": {},
     "output_type": "execute_result"
    }
   ],
   "source": [
    "from sympy.interactive import printing\n",
    "printing.init_printing(use_latex=True)\n",
    "from sympy import *\n",
    "import sympy as sp\n",
    "x= sp.symbols('x')\n",
    "f = sp.Function('f')(x)\n",
    "diffeq = Eq(f.diff(x,x,x,x)-5*f.diff(x,x)+4*f, 0)\n",
    "display(diffeq)\n",
    "dsolve(diffeq,f)"
   ]
  },
  {
   "cell_type": "markdown",
   "metadata": {},
   "source": [
    "## Question 2"
   ]
  },
  {
   "cell_type": "markdown",
   "metadata": {},
   "source": [
    "Ecrire un code en python qui permet d'évaluer les constantes d'intégration de la solution générale en termes des conditions aux bords (2). Pour cette question vous pouvez vous servir de n'importe quelle routine fournie par numpy."
   ]
  },
  {
   "cell_type": "code",
   "execution_count": 29,
   "metadata": {},
   "outputs": [],
   "source": [
    "\n",
    "e=exp(1)\n",
    "def p_exact(a,b,c,d):\n",
    "        fo=[1,1,1,1]\n",
    "        fprimo=[-2,-1,1,1]\n",
    "        f1=[e**(-2),e**(-1),e,e**(2)]\n",
    "        fprim1=[-2*e**(-2),-1*e**(-1),e,2*e**2]\n",
    "        constantes = np.array([fo,fprimo,f1,fprim1])\n",
    "        results = np.array([0,0,1,-1])\n",
    "        find = np.linalg.solve(constantes,results)"
   ]
  },
  {
   "cell_type": "markdown",
   "metadata": {},
   "source": [
    "## Question 3 :"
   ]
  },
  {
   "cell_type": "code",
   "execution_count": 35,
   "metadata": {},
   "outputs": [
    {
     "name": "stdout",
     "output_type": "stream",
     "text": [
      "[ 4.51341459 -6.77012189  2.95350869 -0.69680139]\n"
     ]
    },
    {
     "data": {
      "image/png": "[encoded data removed]",
      "text/plain": [
       "<Figure size 432x288 with 1 Axes>"
      ]
     },
     "metadata": {
      "needs_background": "light"
     },
     "output_type": "display_data"
    }
   ],
   "source": [
    "print(findconst(0,0,1,-1))\n",
    "\n",
    "c1=findconst(0,0,1,-1)[0]\n",
    "c2=findconst(0,0,1,-1)[1]\n",
    "c3=findconst(0,0,1,-1)[2]\n",
    "c4=findconst(0,0,1,-1)[3]\n",
    "\n",
    "x= np.linspace(0,1,1000000)\n",
    "f=lambda x: c1*e**(-2*x)+c2*e**(-1*x)+c3*e**(1*x)+c4*e**(2*x)\n",
    "\n",
    "\n",
    "plt.plot(x,f(x))\n",
    "plt.show()"
   ]
  },
  {
   "cell_type": "markdown",
   "metadata": {},
   "source": [
    "## Question 4 "
   ]
  },
  {
   "cell_type": "markdown",
   "metadata": {},
   "source": [
    " A présent, nous allons utiliser la méthode de Gauss-Seidel qui nous permettre d'obtenir une solution approximer.\n",
    " \n",
    " La méthode de Gauss-Seidel est basé sur l'itération de d'un système linéaire ayant une forme  $Ax=b$. Plus précisément, c'est une suite qui convergera vers une solution de  l'équation étudiée. La méthode est valable si la solution existe et si les conditions de convergence sont satisfaites.\n",
    " \n",
    "Nous allons reprendre l'algorithme, vu au MOOC-Relax, on va introduire nos conditions et demander à Jupyter de faire l'itération.\n",
    "\n",
    "Pour obtenir, l'équation d'itération, il suffit d'utiliser la méthode de centrale finite, backward et forward. Comme nous avons l'application de ses méthodes en premier quadrimestre, ne ne trouvons pas utile de détaillé ces procédés ici. \n",
    "\n",
    "Remarque : sachant que le calcul prends énormément de temps, nous allons utiliser numba pour aller plus vite. \n",
    " \n",
    " "
   ]
  },
  {
   "cell_type": "code",
   "execution_count": 36,
   "metadata": {},
   "outputs": [],
   "source": [
    "import numba\n",
    "from numba import jit"
   ]
  },
  {
   "cell_type": "code",
   "execution_count": 37,
   "metadata": {},
   "outputs": [],
   "source": [
    "# Nos paramètres d'entrées sont :\n",
    "nx = 101  # nnombre de points dans la grille selon la direction x\n",
    "Lx = 1.0  # longueur du domaine selon x.\n",
    "dx = Lx / (nx - 1)  # Espacement selon x.\n",
    "x = np.linspace(0.0, Lx, num=nx) # localisation de nos points.\n",
    "\n",
    "# Conditions initiales.\n",
    "po = np.zeros(nx)\n",
    "po[-1] = 1\n",
    "po[0]=0\n"
   ]
  },
  {
   "cell_type": "code",
   "execution_count": 38,
   "metadata": {},
   "outputs": [],
   "source": [
    "@jit(nopython=True)\n",
    "def gauss_seidel(dx,po, maxiter, rtol):\n",
    "    A = 6+10*dx**2+4*dx**4 #Coefficients \n",
    "    B = -4-5*dx**2 # Coefficients\n",
    "    p = po.copy()\n",
    "    conv = []  # convergence \n",
    "    diff = rtol + 1.0  # différence initiale\n",
    "    ite = 0  # index d'itération\n",
    "    \n",
    "    while diff > rtol and ite < maxiter:\n",
    "        pn = p.copy()\n",
    "        for i in range(2,nx-2):\n",
    "            p[i] = (A**(-1))*(-p[i-2]-B*p[i-1]-B*p[i+1]-p[i+2])\n",
    "        # Appliquons les conditions de VAN NEUMANN dans les bonnes conditions.\n",
    "               \n",
    "        p[-2]= p[-1]+dx\n",
    "        p[1] = p[0]\n",
    "        \n",
    "        diff = np.sqrt(np.sum((p - pn)**2) / np.sum(pn**2)) #différence en norme L2 de deux itérations successives.\n",
    "        conv.append(diff)\n",
    "        ite += 1 \n",
    "    return p, ite, conv"
   ]
  },
  {
   "cell_type": "code",
   "execution_count": 42,
   "metadata": {},
   "outputs": [
    {
     "name": "stdout",
     "output_type": "stream",
     "text": [
      "Gauss-Seidel relaxation: 2531638 iterations pour atteindre une différence relative de 9.99998581262672e-09\n"
     ]
    },
    {
     "data": {
      "image/png": "[encoded data removed]",
      "text/plain": [
       "<Figure size 432x288 with 1 Axes>"
      ]
     },
     "metadata": {
      "needs_background": "light"
     },
     "output_type": "display_data"
    }
   ],
   "source": [
    "p_gauss, ites, conv_gs = gauss_seidel(dx,po,maxiter=20000000, rtol=1e-8)\n",
    "print('Gauss-Seidel relaxation: {} iterations '.format(ites) +'pour atteindre une différence relative de {}'.format(conv_gs[-1]))\n",
    "x = np.linspace(0.0, Lx, num=nx)\n",
    "plt.plot(x,f(x))\n",
    "plt.plot(x,p_gauss)\n",
    "plt.show()"
   ]
  },
  {
   "cell_type": "code",
   "execution_count": 40,
   "metadata": {},
   "outputs": [],
   "source": [
    "def L2_norm(p, pn):\n",
    "    \n",
    "    return np.sqrt(np.sum((p - pn)**2)/np.sum(pn**2))"
   ]
  },
  {
   "cell_type": "code",
   "execution_count": 41,
   "metadata": {},
   "outputs": [
    {
     "name": "stdout",
     "output_type": "stream",
     "text": [
      "L2_norm entre solution exacte et Gauss Seidel 0.09019533427892859\n"
     ]
    }
   ],
   "source": [
    "erreur = L2_norm(p_gauss, f(x))\n",
    "print(\"L2_norm entre solution exacte et Gauss Seidel\",erreur)"
   ]
  },
  {
   "cell_type": "markdown",
   "metadata": {},
   "source": [
    "## Question 5 : "
   ]
  },
  {
   "cell_type": "markdown",
   "metadata": {},
   "source": [
    "En appliquant l'équation d'itération de manièere un peu plus différente, on peut utiliser la méthode Conjugate Gradiant.\n",
    "\n",
    " la méthode du gradient conjugué est un algorithme permettant de  résoudre des systèmes d'équations linéaires dont la matrice est symétrique définie positive, imaginée en 1950 par Cornelius Lanczos, Eduard Stiefel et Magnus Hestenes1, est une méthode itérative qui converge en un nombre fini d'itérations . Toutefois, son grand intérêt pratique du point de vue du temps de calcul vient de ce qu’une initialisation astucieuse (dite « préconditionnement ») permet d'aboutir en seulement quelques passages à une estimation très proche de la solution exacte."
   ]
  },
  {
   "cell_type": "code",
   "execution_count": 43,
   "metadata": {},
   "outputs": [],
   "source": [
    "\n",
    "def l2_norm(p, pk):\n",
    "    \n",
    "    return np.sqrt(np.sum((p - pk)**2)/np.sum(pk**2))"
   ]
  },
  {
   "cell_type": "code",
   "execution_count": 44,
   "metadata": {},
   "outputs": [],
   "source": [
    "nx = 101\n",
    "Lx = 1\n",
    "dx = Lx/(nx-1)\n",
    "b=0\n",
    "maxiter = 20000000\n",
    "rtol =1e-8\n",
    "p0 = np.zeros(nx)"
   ]
  },
  {
   "cell_type": "code",
   "execution_count": 45,
   "metadata": {},
   "outputs": [],
   "source": [
    "\n",
    "def conjugate_gradient(p0, b, dx, maxiter, rtol):\n",
    "    \n",
    "    a1= 6+10*dx**2+4*dx**4\n",
    "    a2 = -4-5*dx**2                            \n",
    "    def A(p):\n",
    "        return a1*p[2:-2]+p[4:]+p[0:-4]+a2*p[3:-1]+a2*p[1:-3]\n",
    "    # Conditions aux bords : \n",
    "    p = p0.copy() \n",
    "    p[0]=0     \n",
    "    p[1]=0\n",
    "    p[-1]=1\n",
    "    p[-2]=p[-1]+dx \n",
    "\n",
    "    \n",
    "    r = np.zeros_like(p)  # résidu initial\n",
    "    Ad = np.zeros_like(p)  \n",
    "   \n",
    "    diff = rtol + 1  \n",
    "    ite = 0  \n",
    "    r[2:-2] = b - A(p) #formule\n",
    "    d = r.copy() \n",
    "    \n",
    "    while diff > rtol and ite < maxiter:\n",
    "        \n",
    "        \n",
    "        pk = p.copy()\n",
    "        rk = r.copy()\n",
    "        Ad[2:-2] = A(d)\n",
    "        alpha = np.sum(r * r) / np.sum(d * Ad)\n",
    "        p = pk + alpha * d\n",
    "        r = rk - alpha * Ad\n",
    "        beta = np.sum(r * r) / np.sum(rk * rk)\n",
    "        d = r + beta * d\n",
    "        diff = l2_norm(p, pk)\n",
    "        ite += 1\n",
    "        \n",
    "    return p, ite, diff"
   ]
  },
  {
   "cell_type": "code",
   "execution_count": 48,
   "metadata": {},
   "outputs": [
    {
     "name": "stdout",
     "output_type": "stream",
     "text": [
      "itérations 296\n",
      "dernier l2_norm 3.2937347809513406e-09\n"
     ]
    },
    {
     "data": {
      "image/png": "[encoded data removed]",
      "text/plain": [
       "<Figure size 432x288 with 1 Axes>"
      ]
     },
     "metadata": {
      "needs_background": "light"
     },
     "output_type": "display_data"
    }
   ],
   "source": [
    "#on pose les variables et on lance l'algo :\n",
    "nx = 101\n",
    "Lx=1\n",
    "dx = Lx/(nx-1)\n",
    "b=0\n",
    "maxiter = 20000000\n",
    "rtol =1e-8\n",
    "p0 = np.zeros(nx)\n",
    "\n",
    "\n",
    "p_gradient, ites, last_difference = conjugate_gradient(p0, b, dx, maxiter, rtol)\n",
    "print(\"itérations\",ites)\n",
    "print(\"dernier l2_norm\",last_difference)\n",
    "plt.plot(p_gradient)\n",
    "plt.show()"
   ]
  },
  {
   "cell_type": "code",
   "execution_count": 50,
   "metadata": {},
   "outputs": [
    {
     "name": "stdout",
     "output_type": "stream",
     "text": [
      "l2_norm entre solution exacte et p_gradient est de 0.09512726227463537\n"
     ]
    }
   ],
   "source": [
    "erreur =  l2_norm(p_gradient, f(x))\n",
    "print (\"l2_norm entre solution exacte et p_gradient est de\",erreur)"
   ]
  },
  {
   "cell_type": "markdown",
   "metadata": {},
   "source": [
    "## Sources :\n",
    "1.https://fr.wikipedia.org/wiki/M%C3%A9thode_du_gradient_conjugu%C3%A9\n",
    "\n",
    "2.https://en.wikipedia.org/wiki/Finite_difference_coefficient\n",
    "\n",
    "3.https://en.wikipedia.org/wiki/Gauss%E2%80%93Seidel_method\n",
    "\n",
    "4.https://github.com/bknaepen/numerical-mooc/tree/MonteCarlo\n",
    "    "
   ]
  },
  {
   "cell_type": "code",
   "execution_count": null,
   "metadata": {},
   "outputs": [],
   "source": []
  }
 ],
 "metadata": {
  "kernelspec": {
   "display_name": "Python 3",
   "language": "python",
   "name": "python3"
  },
  "language_info": {
   "codemirror_mode": {
    "name": "ipython",
    "version": 3
   },
   "file_extension": ".py",
   "mimetype": "text/x-python",
   "name": "python",
   "nbconvert_exporter": "python",
   "pygments_lexer": "ipython3",
   "version": "3.7.3"
  }
 },
 "nbformat": 4,
 "nbformat_minor": 2
}
